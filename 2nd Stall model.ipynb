{
 "cells": [
  {
   "cell_type": "code",
   "execution_count": null,
   "metadata": {},
   "outputs": [],
   "source": [
    "import sympy as sym\n",
    "import numpy as np\n",
    "from matplotlib import pyplot as plt\n",
    "from IPython.display import display"
   ]
  },
  {
   "cell_type": "markdown",
   "metadata": {},
   "source": [
    "Tank, et al [1] modeled the coeficient of lift using the sigmoid function $\\sigma(\\alpha)$ thus\n",
    "$$ C_L(\\alpha) = (1-\\sigma(\\alpha)) C_L + \\sigma(\\alpha) C_{L_{tail}}$$\n",
    "\n",
    "According to Wikipedia [2]\n",
    "$$ \\sigma(\\alpha) = \\frac{e^\\alpha}{e^\\alpha + 1} $$"
   ]
  },
  {
   "cell_type": "code",
   "execution_count": null,
   "metadata": {},
   "outputs": [],
   "source": [
    "# alphas\n",
    "α = np.linspace(-20*np.pi/180, 100*np.pi/180, 1000)\n",
    "\n",
    "# sigmoid function\n",
    "σ = np.exp(α)/(np.exp(α)+1)\n",
    "\n",
    "plt.figure(figsize = (10,5))\n",
    "plt.plot(α, σ)\n",
    "plt.grid()"
   ]
  },
  {
   "cell_type": "markdown",
   "metadata": {},
   "source": [
    "Umm ok ...\n",
    "\n",
    "I'm going to ignore $C_{L_{tail}}$"
   ]
  },
  {
   "cell_type": "code",
   "execution_count": null,
   "metadata": {},
   "outputs": [],
   "source": [
    "# stability and control derivatives for the aircraft\n",
    "\n",
    "CL_0 = 0.243200\n",
    "CD_0 = 0.12\n",
    "Cm_0 = -0.026700\n",
    "\n",
    "CL_a = 4.240906\n",
    "Cm_a = -0.780993\n",
    "\n",
    "CL_Q = 7.046092\n",
    "Cm_Q = -7.220962\n",
    "\n",
    "CL_de = 0.419064\n",
    "Cm_de = -0.922107\n",
    "\n",
    "CL_df = 0.936323\n",
    "Cm_df = 0.111822"
   ]
  },
  {
   "cell_type": "code",
   "execution_count": null,
   "metadata": {},
   "outputs": [],
   "source": [
    "# Coefficient of lift ignoring tail and flap stuff\n",
    "CL= CL_a*α\n",
    "\n",
    "CL_stall = CL_0 + (1-σ)*CL\n",
    "\n",
    "plt.figure(figsize = (10,5))\n",
    "#plt.plot(α, CL, label = \"Linear CL\")\n",
    "plt.plot(α, CL_stall, label = \"Linear CL Stall\")\n",
    "plt.grid()"
   ]
  },
  {
   "cell_type": "code",
   "execution_count": null,
   "metadata": {},
   "outputs": [],
   "source": [
    "a = sym.symbols('\\\\alpha')\n",
    "dy = (a + 20*sym.pi/180)*(a - 18*sym.pi/180)*(a - 25*sym.pi/180)*(a - 45*sym.pi/180)\n",
    "y = sym.integrate(dy)\n",
    "\n",
    "s = sym.symbols('s')\n",
    "y_18 = y*s - 1\n",
    "display(y_18)\n",
    "s_ = sym.solve(y_18.subs([(a,np.pi/10)]), s)\n",
    "display(s_[0])"
   ]
  },
  {
   "cell_type": "code",
   "execution_count": null,
   "metadata": {},
   "outputs": [],
   "source": [
    "CL_stall = 80.25*α**13 - 620.24*α**12 + 1898.32*α**11 - 2745.73*α**10 + 1410.02*α**9 + 926.61*α**8 - 1341.81*α**7 + 186.3*α**6 + 289.03*α**5 - 40.82*α**4 - 46.51*α**3 - 1.54*α**2 + 6.77*α + 0.02 + CL_0 \n",
    "\n",
    "\n",
    "degrees = α*180/np.pi\n",
    "\n",
    "\n",
    "\n",
    "CL= CL_a*α + CL_0\n",
    "\n",
    "A_ =  5.28 #5.9655)\n",
    "e_ =  0.858 #0.85)\n",
    "\n",
    "CD_stall = CD_0 + CL_stall**2/(np.pi * A_ * e_)\n",
    "CD = CD_0 + CL**2/(np.pi * A_ * e_)\n",
    "\n",
    "Cm = Cm_0 + Cm_a*α\n",
    "\n",
    "plt.figure(figsize = (10,7))\n",
    "#plt.subplot(2,1,1)\n",
    "plt.plot(degrees,CD,'C8', label=\"$C_L$ for stall model\")\n",
    "\n",
    "#plt.plot(degrees,CL, label=\"Normal $C_L$\")\n",
    "plt.grid()\n",
    "#plt.legend()\n",
    "plt.axis([min(degrees), max(degrees),0, 2.5]);\n",
    "plt.xlabel(\"Angle of attack [deg]\",fontsize=14)\n",
    "plt.ylabel(\"$C_D$\",fontsize=14)\n",
    "plt.title(\"Drag Curve\",fontsize=20)\n",
    "\n",
    "plt.savefig(\"/Users/matthayes/EEE4022S/Report/Figures/Model/MyDragCurve.pdf\")\n",
    "\n",
    "# plt.subplot(2,1,2)\n",
    "# plt.plot(degrees,CD_stall, 'C2', label = \"$C_D$ Calculated using $C_L$ for the stall model\")\n",
    "# plt.plot(degrees,CD,'C1', label = \"C_D$ Calculated using normal $C_L$\")\n",
    "# plt.grid()\n",
    "# plt.legend()\n",
    "# plt.title(\"Coeficient of drag vs AOA for the stall and normal model\")\n",
    "# plt.xlabel(\"Angle of attack [deg]\")\n",
    "# plt.ylabel(\"$C_D$\")\n",
    "# "
   ]
  },
  {
   "cell_type": "code",
   "execution_count": null,
   "metadata": {},
   "outputs": [],
   "source": [
    "plt.figure(figsize = (7,7))\n",
    "plt.plot(degrees,CL, label=\"Normal $C_L$\")\n",
    "plt.grid()\n",
    "#plt.legend()\n",
    "plt.axis([0, 20,0.0, 2]);\n",
    "plt.xlabel(\"Angle of attack [deg]\",fontsize=13)\n",
    "plt.ylabel(\"$C_L$\", fontsize=13)\n",
    "plt.title(\"Lift Curve\",fontsize=20)\n",
    "\n",
    "plt.savefig(\"/Users/matthayes/EEE4022S/Report/Figures/Model/LinearLiftCurve.pdf\")"
   ]
  },
  {
   "cell_type": "code",
   "execution_count": null,
   "metadata": {},
   "outputs": [],
   "source": []
  },
  {
   "cell_type": "code",
   "execution_count": null,
   "metadata": {},
   "outputs": [],
   "source": [
    "# symbolic variables\n",
    "x1,z1,th1 = sym.symbols(['x1','z1','th1'])\n",
    "\n",
    "dx1b,dz1b,dth1 = sym.symbols(['dx1b','dz1b','dth1b'])\n",
    "\n",
    "ddx1b,ddz1b,ddth1 = sym.symbols(['ddx1b','ddz1b','ddth1b'])\n",
    "\n",
    "de, df, T, V, a = sym.symbols(['de','df','T','V','a'])\n",
    "m1 = sym.symbols('m1')\n",
    "I1 = sym.symbols('I1')\n",
    "\n",
    "S, b, c, A, e = sym.symbols(['S','b','c','A','e'])\n",
    "\n",
    "CL_0,CL_a,CL_Q,CL_de, CL_df = sym.symbols(['C_L_0','C_L_alpha','C_L_Q','C_L_delta_E', 'CL_df'])\n",
    "\n",
    "CD_0 = sym.symbols('C_D_0')\n",
    "\n",
    "Cm_0,Cm_a,Cm_Q,Cm_de, Cm_df = sym.symbols(['C_m_0','C_m_alpha','C_m_Q','C_m_delta_E','Cm_df'])\n",
    "\n",
    "rho = sym.symbols('rho')\n",
    "\n",
    "g = sym.symbols('g')"
   ]
  },
  {
   "cell_type": "code",
   "execution_count": null,
   "metadata": {},
   "outputs": [],
   "source": [
    "# Coefficient of lift\n",
    "CL= CL_0 + CL_a*a + CL_de*de + CL_df*df\n",
    "CL_stall = 80.25*a**13 - 620.24*a**12 + 1898.32*a**11 - 2745.73*a**10 + 1410.02*a**9 + 926.61*a**8 - 1341.81*a**7 + 186.3*a**6 + 289.03*a**5 - 40.82*a**4 - 46.51*a**3 - 1.54*a**2 + 6.77*a\n",
    "CL_stall += CL_0 + CL_de*de + CL_df*df\n",
    "# Coefficient of drag\n",
    "CD = CD_0 + (CL*CL)/(sym.pi*A*e)\n",
    "Q = dth1\n",
    "# X-force coefficient in wind (stability) axis\n",
    "CXs = -CD\n",
    "# Z-force coefficient in wind (stability) axis\n",
    "CZs = -CL_stall + (c/(2*V))*(CL_Q*Q)\n",
    "# Pitch moment coefficient in wind (stability) axis\n",
    "Cms = Cm_0 + Cm_a*a + (c/(2*V))*(Cm_Q*Q) + Cm_de*de + Cm_df*df\n",
    "\n",
    "# X-force coefficient in body axis\n",
    "CX = CXs*sym.cos(a) - CZs*sym.sin(a)\n",
    "# Z-force coefficient in body axis\n",
    "CZ = CZs*sym.cos(a) + CXs*sym.sin(a)\n",
    "# Pitch moment coefficient in body axis\n",
    "Cm = Cms"
   ]
  },
  {
   "cell_type": "code",
   "execution_count": null,
   "metadata": {},
   "outputs": [],
   "source": [
    "# forces\n",
    "# X-force in body axis\n",
    "Xa = 0.5*rho*V*V*S*CX\n",
    "# Z-force in body axis\n",
    "Za = 0.5*rho*V*V*S*CZ\n",
    "# Pitch moment in body axis\n",
    "Ma = 0.5*rho*V*V*S*c*Cm\n",
    "\n",
    "X = Xa + T - sym.sin(th1)*(m1*g)\n",
    "Z = Za + sym.cos(th1)*(m1*g)\n",
    "M = Ma"
   ]
  },
  {
   "cell_type": "code",
   "execution_count": null,
   "metadata": {},
   "outputs": [],
   "source": [
    "# equations of motion\n",
    "dQ = ddth1\n",
    "EOM1 = sym.simplify(ddx1b - (1/m1 * X - dz1b*Q))\n",
    "EOM2 = sym.simplify(ddz1b - (1/m1 * Z + dx1b*Q))\n",
    "EOM3 = sym.simplify(dQ - M/I1)"
   ]
  },
  {
   "cell_type": "code",
   "execution_count": null,
   "metadata": {},
   "outputs": [],
   "source": [
    "# import pickle as pkl\n",
    "# data = {\"EOM1\":EOM1,\n",
    "#         \"EOM2\":EOM2,\n",
    "#         \"EOM3\":EOM3,\n",
    "#        }\n",
    "\n",
    "# outfile = open('../Optimization/Stall_EOM_New','wb')\n",
    "# pkl.dump(data,outfile)\n",
    "# outfile.close()"
   ]
  },
  {
   "cell_type": "code",
   "execution_count": null,
   "metadata": {},
   "outputs": [],
   "source": [
    "EOM3"
   ]
  },
  {
   "cell_type": "code",
   "execution_count": null,
   "metadata": {},
   "outputs": [],
   "source": []
  },
  {
   "cell_type": "markdown",
   "metadata": {},
   "source": [
    "[1]M.-J. Tahk, S. Han, B.-Y. Lee, and J. Ahn, “Perch Landing Assisted by Thruster (PLAT): Concept and     Trajectory Optimization,” International Journal of Aeronautical and Space Sciences, vol. 17, no. 3, pp. 378–390, Sep. 2016.\n",
    "\n",
    "[2]“Sigmoid function,” Wikipedia, 25-Jun-2020. [Online]. Available: https://en.wikipedia.org/wiki/Sigmoid_function. [Accessed: 26-Jul-2020]"
   ]
  }
 ],
 "metadata": {
  "kernelspec": {
   "display_name": "Optimization",
   "language": "python",
   "name": "eee4022s"
  },
  "language_info": {
   "codemirror_mode": {
    "name": "ipython",
    "version": 3
   },
   "file_extension": ".py",
   "mimetype": "text/x-python",
   "name": "python",
   "nbconvert_exporter": "python",
   "pygments_lexer": "ipython3",
   "version": "3.8.5"
  }
 },
 "nbformat": 4,
 "nbformat_minor": 4
}
